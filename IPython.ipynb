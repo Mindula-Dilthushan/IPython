{
  "nbformat": 4,
  "nbformat_minor": 0,
  "metadata": {
    "colab": {
      "name": "Untitled0.ipynb",
      "provenance": []
    },
    "kernelspec": {
      "name": "python3",
      "display_name": "Python 3"
    },
    "language_info": {
      "name": "python"
    }
  },
  "cells": [
    {
      "cell_type": "code",
      "execution_count": 1,
      "metadata": {
        "colab": {
          "base_uri": "https://localhost:8080/"
        },
        "id": "p_vxS69xFRag",
        "outputId": "510d90b5-b678-42d9-e0bf-366101645023"
      },
      "outputs": [
        {
          "output_type": "stream",
          "name": "stdout",
          "text": [
            "Mindula Dilthushan\n"
          ]
        }
      ],
      "source": [
        "print(\"Mindula Dilthushan\")"
      ]
    }
  ]
}